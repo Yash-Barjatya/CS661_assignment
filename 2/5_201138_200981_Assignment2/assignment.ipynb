{
 "cells": [
  {
   "cell_type": "code",
   "execution_count": 12,
   "metadata": {},
   "outputs": [],
   "source": [
    "import vtk\n",
    "import matplotlib.cm as cm\n",
    "from vtk.util import numpy_support\n",
    "import numpy as np\n",
    "import plotly.graph_objects as go\n",
    "import plotly.express as px\n",
    "import ipywidgets as widgets"
   ]
  },
  {
   "cell_type": "code",
   "execution_count": 13,
   "metadata": {},
   "outputs": [],
   "source": [
    "def read_vti_file(filename):\n",
    "    \"\"\"\n",
    "    Reads a VTI file using VTK and returns the output as a vtkImageData object.\n",
    "\n",
    "    Args:\n",
    "        filename (str): The path to the VTI file.\n",
    "\n",
    "    Returns:\n",
    "        vtkImageData: The image data read from the VTI file.\n",
    "    \"\"\"\n",
    "    reader = vtk.vtkXMLImageDataReader()\n",
    "    reader.SetFileName(filename)\n",
    "    reader.Update()\n",
    "    return reader.GetOutput()"
   ]
  },
  {
   "cell_type": "code",
   "execution_count": 14,
   "metadata": {},
   "outputs": [],
   "source": [
    "def convert_vtk_to_numpy(vtk_data):\n",
    "    \"\"\"\n",
    "    Converts the scalar field data from a VTK object to a NumPy array.\n",
    "\n",
    "    Args:\n",
    "        vtk_data (vtkImageData): The vtkImageData object containing the scalar field.\n",
    "\n",
    "    Returns:\n",
    "        numpy.ndarray: The scalar field data as a NumPy array.\n",
    "    \"\"\"\n",
    "    scalar_field = vtk_data.GetPointData().GetScalars()\n",
    "    scalar_field_array = numpy_support.vtk_to_numpy(scalar_field)\n",
    "    return scalar_field_array.reshape(vtk_data.GetDimensions())\n"
   ]
  },
  {
   "cell_type": "code",
   "execution_count": 15,
   "metadata": {},
   "outputs": [],
   "source": [
    "def create_isosurface_trace(x, y, z, scalar_field_array, isosurface_value, colormap, color_range):\n",
    "    \"\"\"\n",
    "    Creates an isosurface trace for Plotly using the given data and settings.\n",
    "\n",
    "    Args:\n",
    "        x, y, z (numpy.ndarray): Coordinates for the 3D points.\n",
    "        scalar_field_array (numpy.ndarray): The scalar field data.\n",
    "        isosurface_value (float): The isosurface value to visualize.\n",
    "        colormap (str or plotly.colors.sequential.Colormap): The colormap for the isosurface.\n",
    "        color_range (list): The minimum and maximum values for the color scale.\n",
    "\n",
    "    Returns:\n",
    "        plotly.graph_objs.Isosurface: The isosurface trace for Plotly.\n",
    "    \"\"\"\n",
    "    isosurface = go.Isosurface(\n",
    "        x=x.flatten(),\n",
    "        y=y.flatten(),\n",
    "        z=z.flatten(),\n",
    "        value=scalar_field_array.flatten(),\n",
    "        isomin=isosurface_value,\n",
    "        isomax=isosurface_value,\n",
    "        surface_count=1,\n",
    "        caps=dict(x_show=False, y_show=False),\n",
    "        colorscale=colormap,\n",
    "        colorbar=dict(thickness=20, ticklen=4, len=0.75, title=\"Density\"),\n",
    "        cmin=color_range[0],\n",
    "        cmax=color_range[1],\n",
    "        showscale=True,\n",
    "    )\n",
    "    return isosurface"
   ]
  },
  {
   "cell_type": "code",
   "execution_count": 16,
   "metadata": {},
   "outputs": [],
   "source": [
    "def create_histogram_trace(scalar_field_array, isosurface_value):\n",
    "    \"\"\"\n",
    "    Creates a histogram trace for Plotly of the scalar field centered around the isosurface value.\n",
    "\n",
    "    Args:\n",
    "        scalar_field_array (numpy.ndarray): The scalar field data.\n",
    "        isosurface_value (float): The center value for the histogram bins.\n",
    "\n",
    "    Returns:\n",
    "        plotly.graph_objs.Histogram: The histogram trace for Plotly.\n",
    "    \"\"\"\n",
    "    histogram = go.Histogram(\n",
    "        x=scalar_field_array.flatten(),\n",
    "        nbinsx=30,\n",
    "        xbins=dict(start=isosurface_value - 0.25, end=isosurface_value + 0.25),\n",
    "    )\n",
    "    return histogram"
   ]
  },
  {
   "cell_type": "code",
   "execution_count": 17,
   "metadata": {},
   "outputs": [],
   "source": [
    "def create_plot_layout(x_range, y_range, z_range):\n",
    "    return go.Layout(\n",
    "        scene=dict(\n",
    "            xaxis=dict(nticks=4, range=x_range),\n",
    "            yaxis=dict(nticks=4, range=y_range),\n",
    "            zaxis=dict(nticks=4, range=z_range),\n",
    "        ),\n",
    "    )"
   ]
  },
  {
   "cell_type": "code",
   "execution_count": 18,
   "metadata": {},
   "outputs": [],
   "source": [
    "def create_histogram_layout():\n",
    "    return go.Layout(\n",
    "        xaxis=dict(title=\"Vortex Scalar Field\"),\n",
    "        yaxis=dict(title=\"Frequency\"),\n",
    "    )"
   ]
  },
  {
   "cell_type": "code",
   "execution_count": 9,
   "metadata": {},
   "outputs": [],
   "source": [
    "# ----- Function for Interactive Updates -----\n",
    "def update_plot(isosurface_fig, histogram_fig, scalar_field_array, slider_value, isosurface_value):\n",
    "    \"\"\"\n",
    "    Updates the isosurface and histogram figures based on the new slider value.\n",
    "\n",
    "    Args:\n",
    "        isosurface_fig (plotly.graph_objs.Figure): The isosurface figure.\n",
    "        histogram_fig (plotly.graph_objs.Figure): The histogram figure.\n",
    "        scalar_field_array (numpy.ndarray): The scalar field data.\n",
    "        slider_value (float): The new value from the slider.\n",
    "        isosurface_value (float): The initial isosurface value.\n",
    "    \"\"\"\n",
    "    with isosurface_fig.batch_update():\n",
    "        isosurface_fig.data[0].isomin = slider_value\n",
    "        isosurface_fig.data[0].isomax = slider_value\n",
    "    with histogram_fig.batch_update():\n",
    "        if slider_value:\n",
    "            histogram_fig.data[0].xbins.start = slider_value - 0.25\n",
    "            histogram_fig.data[0].xbins.end = slider_value + 0.25\n",
    "        else:\n",
    "            histogram_fig.data[0].xbins.start = scalar_field_array.min()\n",
    "            histogram_fig.data[0].xbins.end = scalar_field_array.max()"
   ]
  },
  {
   "cell_type": "code",
   "execution_count": 19,
   "metadata": {},
   "outputs": [],
   "source": [
    "def reset_plots(r, slider, isosurface_value):\n",
    "    slider.value = isosurface_value"
   ]
  },
  {
   "cell_type": "code",
   "execution_count": 21,
   "metadata": {},
   "outputs": [
    {
     "data": {
      "application/vnd.jupyter.widget-view+json": {
       "model_id": "720a4168668649f0a505dcbd9ab04f45",
       "version_major": 2,
       "version_minor": 0
      },
      "text/plain": [
       "VBox(children=(HBox(children=(FigureWidget({\n",
       "    'data': [{'caps': {'x': {'show': False}, 'y': {'show': False}…"
      ]
     },
     "metadata": {},
     "output_type": "display_data"
    }
   ],
   "source": [
    "def main():\n",
    "    \"\"\"\n",
    "    Reads the VTI file, creates the interactive plots, and sets up the controls.\n",
    "    \"\"\"\n",
    "    # Read VTI file\n",
    "    vtk_data = read_vti_file(\"mixture.vti\")\n",
    "\n",
    "    # Convert VTK data to numpy array\n",
    "    scalar_field_array = convert_vtk_to_numpy(vtk_data)\n",
    "\n",
    "    # Generate coordinates\n",
    "    x, y, z = np.indices(scalar_field_array.shape)\n",
    "\n",
    "    # Define isosurface value, colormap, and color range\n",
    "    # isosurface_value = 0\n",
    "    # colormap = px.colors.sequential.plasma\n",
    "    # color_range = [scalar_field_array.min(), scalar_field_array.max()]\n",
    "    isosurface_value = 0\n",
    "    # colormap = cm.plasma\n",
    "    colormap = 'plasma'\n",
    "\n",
    "    color_range = [scalar_field_array.min(), scalar_field_array.max()]\n",
    "\n",
    "    # Create isosurface trace\n",
    "    isosurface_trace = create_isosurface_trace(x, y, z, scalar_field_array, isosurface_value, colormap, color_range)\n",
    "\n",
    "    # Create histogram trace\n",
    "    histogram_trace = create_histogram_trace(scalar_field_array, isosurface_value)\n",
    "\n",
    "    # Create plot layout\n",
    "    isosurface_layout = create_plot_layout([0, 75], [0, 75], [0, 75])\n",
    "    histogram_layout = create_histogram_layout()\n",
    "\n",
    "    # Create Plotly figures\n",
    "    isosurface_fig = go.FigureWidget(data=[isosurface_trace], layout=isosurface_layout)\n",
    "    histogram_fig = go.FigureWidget(data=[histogram_trace], layout=histogram_layout)\n",
    "\n",
    "    # Initialize slider\n",
    "    slider = widgets.FloatSlider(\n",
    "        value=isosurface_value,\n",
    "        min=scalar_field_array.min(),\n",
    "        max=scalar_field_array.max(),\n",
    "        step=0.01,\n",
    "        description=\"Iso-surface value:\",\n",
    "        continuous_update=True,\n",
    "    )\n",
    "\n",
    "    # Initialize reset button\n",
    "    reset_button = widgets.Button(description=\"Reset\")\n",
    "\n",
    "    # Bind events\n",
    "    slider.observe(lambda change: update_plot(isosurface_fig, histogram_fig, scalar_field_array, change[\"new\"], isosurface_value), names=\"value\")\n",
    "    reset_button.on_click(lambda button_click: reset_plots(button_click, slider, isosurface_value))\n",
    "\n",
    "    # Display the plots\n",
    "    display(widgets.VBox([widgets.HBox([isosurface_fig, histogram_fig]), widgets.HBox([slider, reset_button])]))\n",
    "\n",
    "if __name__ == \"__main__\":\n",
    "    main()\n"
   ]
  }
 ],
 "metadata": {
  "kernelspec": {
   "display_name": "Python 3",
   "language": "python",
   "name": "python3"
  },
  "language_info": {
   "codemirror_mode": {
    "name": "ipython",
    "version": 3
   },
   "file_extension": ".py",
   "mimetype": "text/x-python",
   "name": "python",
   "nbconvert_exporter": "python",
   "pygments_lexer": "ipython3",
   "version": "3.11.3"
  }
 },
 "nbformat": 4,
 "nbformat_minor": 2
}
